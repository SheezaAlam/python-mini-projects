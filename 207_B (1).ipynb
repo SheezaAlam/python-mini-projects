{
 "cells": [
  {
   "cell_type": "code",
   "execution_count": 1,
   "id": "b155ae14-5596-4e09-b9b0-750aeeca6edc",
   "metadata": {},
   "outputs": [
    {
     "name": "stdout",
     "output_type": "stream",
     "text": [
      "Removed: 3\n",
      "Removed: 2\n",
      "Removed: 1\n"
     ]
    }
   ],
   "source": [
    "#Activity:01\n",
    "#In contrast to the standard FIFO implementation of Queue, the LifoQueue uses last-in, first-out ordering (normally associated with a stack data structure). Implement LIFO queue using queue module.\n",
    "from queue import LifoQueue\n",
    "\n",
    "# Create LIFO queue\n",
    "stack = LifoQueue()\n",
    "\n",
    "# Add items\n",
    "stack.put(1)\n",
    "stack.put(2)\n",
    "stack.put(3)\n",
    "\n",
    "# Remove items (last in, first out)\n",
    "while not stack.empty():\n",
    "    print(\"Removed:\", stack.get())\n"
   ]
  },
  {
   "cell_type": "code",
   "execution_count": 3,
   "id": "685402c8-5428-4db3-8d45-5ea79b77e725",
   "metadata": {},
   "outputs": [
    {
     "name": "stdout",
     "output_type": "stream",
     "text": [
      "Final max-priority queue: [8, 7, 4, 3, 1]\n"
     ]
    }
   ],
   "source": [
    "#Activity- 2:Max Priority Queue for [4, 8, 1, 7, 3]\n",
    "data = [4, 8, 1, 7, 3]\n",
    "priority_queue = []\n",
    "\n",
    "for num in data:\n",
    "    inserted = False\n",
    "    for i in range(len(priority_queue)):\n",
    "        if num > priority_queue[i]:\n",
    "            priority_queue.insert(i, num)\n",
    "            inserted = True\n",
    "            break\n",
    "    if not inserted:\n",
    "        priority_queue.append(num)\n",
    "\n",
    "print(\"Final max-priority queue:\", priority_queue)\n"
   ]
  },
  {
   "cell_type": "code",
   "execution_count": 5,
   "id": "a4e4df69-5636-4b2e-8b87-170ccac777af",
   "metadata": {},
   "outputs": [
    {
     "name": "stdout",
     "output_type": "stream",
     "text": [
      "Presentation order by roll number:\n",
      "Student with roll number: 1\n",
      "Student with roll number: 3\n",
      "Student with roll number: 5\n",
      "Student with roll number: 7\n",
      "Student with roll number: 10\n"
     ]
    }
   ],
   "source": [
    "#Activity- 3: Consider a simple priority queue implementation for scheduling the presentations of students based on their roll number. Here roll number decides the priority of the student to present. Since it is a min-heap, roll number 1 is considered to be of the highest priority.\n",
    "\n",
    "import heapq\n",
    "\n",
    "# List of roll numbers (lower number = higher priority)\n",
    "roll_numbers = [10, 3, 5, 1, 7]\n",
    "\n",
    "# Create a min-heap\n",
    "priority_queue = []\n",
    "\n",
    "for roll in roll_numbers:\n",
    "    heapq.heappush(priority_queue, roll)\n",
    "\n",
    "print(\"Presentation order by roll number:\")\n",
    "while priority_queue:\n",
    "    print(\"Student with roll number:\", heapq.heappop(priority_queue))\n"
   ]
  },
  {
   "cell_type": "code",
   "execution_count": 13,
   "id": "a71ac9ff-200e-42ae-b66d-655bc9412ff2",
   "metadata": {},
   "outputs": [
    {
     "name": "stdout",
     "output_type": "stream",
     "text": [
      "Heap with student marks:\n",
      "[(95, 'Zara'), (85, 'Atif'), (85, 'maimoona'), (40, 'Shiza')]\n",
      "\n",
      "Students from highest to lowest marks:\n",
      "Zara: 95\n",
      "Atif: 85\n",
      "maimoona: 85\n",
      "Shiza: 40\n"
     ]
    }
   ],
   "source": [
    "#Activity 4: Heap with Student Marks and Names\n",
    "import heapq\n",
    "\n",
    "# (Negative marks to sort from highest to lowest)\n",
    "students = [(-85, \"Atif\"), (-40, \"Shiza\"), (-85, \"maimoona\"), (-95, \"Zara\")]\n",
    "\n",
    "# Convert list to heap\n",
    "heapq.heapify(students)\n",
    "\n",
    "print(\"Heap with student marks:\")\n",
    "print([(-marks, name) for marks, name in students])\n",
    "\n",
    "print(\"\\nStudents from highest to lowest marks:\")\n",
    "while students:\n",
    "    marks, name = heapq.heappop(students)\n",
    "    print(f\"{name}: {-marks}\")\n"
   ]
  },
  {
   "cell_type": "code",
   "execution_count": null,
   "id": "42a143c5-0a0f-498b-a72b-fdcdbc231b3f",
   "metadata": {},
   "outputs": [],
   "source": []
  }
 ],
 "metadata": {
  "kernelspec": {
   "display_name": "Python [conda env:base] *",
   "language": "python",
   "name": "conda-base-py"
  },
  "language_info": {
   "codemirror_mode": {
    "name": "ipython",
    "version": 3
   },
   "file_extension": ".py",
   "mimetype": "text/x-python",
   "name": "python",
   "nbconvert_exporter": "python",
   "pygments_lexer": "ipython3",
   "version": "3.12.7"
  }
 },
 "nbformat": 4,
 "nbformat_minor": 5
}
