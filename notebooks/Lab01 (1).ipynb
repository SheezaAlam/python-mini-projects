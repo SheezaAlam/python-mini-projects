{
 "cells": [
  {
   "cell_type": "code",
   "execution_count": 3,
   "id": "5915f78f-3710-4e63-a167-fa3a7fa5e14a",
   "metadata": {},
   "outputs": [
    {
     "name": "stdin",
     "output_type": "stream",
     "text": [
      "enter num 1\n"
     ]
    },
    {
     "name": "stdout",
     "output_type": "stream",
     "text": [
      "7\n"
     ]
    }
   ],
   "source": [
    "#Activity-1 Write a script that take user input for a number then adds 3 to that number. Then multiplies the result by 2, subtract 4, then again adds 3, then print the result.\n",
    "num=int(input(\"enter num\"))\n",
    "x=num+3\n",
    "y=x*2-4\n",
    "z=y+3\n",
    "print(z)"
   ]
  },
  {
   "cell_type": "code",
   "execution_count": 9,
   "id": "5c97546f-145a-4cca-b04f-9609a951aae2",
   "metadata": {},
   "outputs": [
    {
     "name": "stdin",
     "output_type": "stream",
     "text": [
      "calculate area of circle 2\n"
     ]
    },
    {
     "name": "stdout",
     "output_type": "stream",
     "text": [
      "12.568\n"
     ]
    }
   ],
   "source": [
    "#Activity- 2: Write a script that takes input as radius then calculate area of circle. (Hint: A= πr²)\n",
    "radius=float(input(\"calculate area of circle\"))\n",
    "a=3.142*radius**2\n",
    "print(a)"
   ]
  },
  {
   "cell_type": "code",
   "execution_count": 11,
   "id": "4a47620d-d68c-4e61-a1b1-5174305da014",
   "metadata": {},
   "outputs": [
    {
     "name": "stdin",
     "output_type": "stream",
     "text": [
      "enter your fav color blue\n"
     ]
    },
    {
     "name": "stdout",
     "output_type": "stream",
     "text": [
      "blueblueblueblueblueblueblueblueblueblue\n",
      "blue                                blue\n",
      "blueblueblueblueblueblueblueblueblueblue\n"
     ]
    }
   ],
   "source": [
    "#Activity- 3:\n",
    "a=(input(\"enter your fav color\"))\n",
    "print(a*10)\n",
    "print(a+\" \"*(len(a)*8)+a)\n",
    "print(a*10)"
   ]
  },
  {
   "cell_type": "code",
   "execution_count": 17,
   "id": "467c045e-c97e-4f82-9f3a-70e6c5ca7fb7",
   "metadata": {},
   "outputs": [
    {
     "name": "stdout",
     "output_type": "stream",
     "text": [
      "*shiza*\n",
      "shiza*\n",
      "*shiza\n",
      "shiza\n"
     ]
    }
   ],
   "source": [
    "#Activity- 4:Store a person‟s name, and include some „*‟ characters at the beginning and end of the name. Print the name once, so the „*‟ around the name is displayed. Then print the name using each of the three stripping functions, lstrip(), rstrip(), and strip().\n",
    "name=\"*shiza*\"\n",
    "print(name)\n",
    "print(name.lstrip(\"*\"))\n",
    "print(name.rstrip(\"*\"))\n",
    "print(name.strip(\"*\"))\n",
    "        "
   ]
  },
  {
   "cell_type": "code",
   "execution_count": 35,
   "id": "49222bb7-73c8-457d-94b6-38ffad2c0b54",
   "metadata": {},
   "outputs": [
    {
     "name": "stdout",
     "output_type": "stream",
     "text": [
      "8\n"
     ]
    }
   ],
   "source": [
    "#Activity- 5:Write a function called absolute_num() that accepts one parameter, num. The function should return only positive value, and apply condition on it. This function returns the absolute value of the entered number.\n",
    "# Define the function\n",
    "def absolute_num(num):\n",
    "    if num < 0:\n",
    "        return abs(num)\n",
    "    else:\n",
    "        return num\n",
    "\n",
    "print(absolute_num(-8))\n"
   ]
  },
  {
   "cell_type": "code",
   "execution_count": 37,
   "id": "c0b85d50-15df-462f-8a47-2bbdc106661f",
   "metadata": {},
   "outputs": [
    {
     "name": "stdout",
     "output_type": "stream",
     "text": [
      "Karachi is in Pakistan.\n",
      "Lahore is in Pakistan.\n",
      "Tokyo is in Japan.\n"
     ]
    }
   ],
   "source": [
    "#Activity- 6:\n",
    "#Write a function called describe_city( ) that accepts the name of a city and its country. The function should print a simple sentence, such as Karachi is in Pakistan. Give the parameter for the country a default value. Call your function for three different cities, at least one of which is in the default country.\n",
    "def describe_city(city, country=\"Pakistan\"):\n",
    "    print(f\"{city} is in {country}.\")\n",
    "\n",
    "describe_city(\"Karachi\")             \n",
    "describe_city(\"Lahore\")               \n",
    "describe_city(\"Tokyo\", \"Japan\")      \n"
   ]
  },
  {
   "cell_type": "code",
   "execution_count": 41,
   "id": "6c659e45-19a1-4d93-9c4c-5641f5515cee",
   "metadata": {},
   "outputs": [
    {
     "name": "stdin",
     "output_type": "stream",
     "text": [
      "Enter a number to create its multiplication table:  3\n"
     ]
    },
    {
     "name": "stdout",
     "output_type": "stream",
     "text": [
      "3 x 1 = 3\n",
      "3 x 2 = 6\n",
      "3 x 3 = 9\n",
      "3 x 4 = 12\n",
      "3 x 5 = 15\n",
      "3 x 6 = 18\n",
      "3 x 7 = 21\n",
      "3 x 8 = 24\n",
      "3 x 9 = 27\n",
      "3 x 10 = 30\n"
     ]
    }
   ],
   "source": [
    "#Activity- 7:Write a python script that take a user input and to create the multiplication table (from 1 to 10) of that number.\n",
    "num = int(input(\"Enter a number to create its multiplication table: \"))\n",
    "for i in range(1, 11):\n",
    "    print(f\"{num} x {i} = {num * i}\")\n"
   ]
  },
  {
   "cell_type": "code",
   "execution_count": 43,
   "id": "0495b592-cc9e-41dc-80bd-608737ee5664",
   "metadata": {},
   "outputs": [
    {
     "name": "stdout",
     "output_type": "stream",
     "text": [
      "0\n",
      "1\n",
      "2\n",
      "4\n",
      "5\n"
     ]
    }
   ],
   "source": [
    "#Activity- 8:Write a Python program that prints all the numbers from 0 to 6 except 3 and 6.Note: Use 'continue' statement\n",
    "for num in range(7):\n",
    "    if num == 3 or num == 6:\n",
    "        continue  \n",
    "    print(num)"
   ]
  },
  {
   "cell_type": "code",
   "execution_count": 47,
   "id": "80719732-abd5-47da-8054-6d20fdeb6566",
   "metadata": {},
   "outputs": [
    {
     "name": "stdout",
     "output_type": "stream",
     "text": [
      "Person is an adult\n"
     ]
    }
   ],
   "source": [
    "#Activity9-Activity- 9:Stages of Life: Write an if-elif-else chain that determines a person‟s stage of life. Set a value for the variable age, and the If the person is less than 2 years old, print a message that the person is a baby. If the person is at least 4 years old but less than 13, print a message that the person is a kid. If the person is at least 13 years old but less than 20, print a message that the person is a teenager. If the person is at least 20 years old but less than 65, print a message that the person is an adult. If the person is age 65 or older, print a message that the person is an old.\n",
    "age = 35\n",
    "\n",
    "# Determine the stage of life\n",
    "if age < 2:\n",
    "    print(\"Person is a baby\")\n",
    "elif age >= 4 and age < 13:\n",
    "    print(\"Person is a kid\")\n",
    "elif age >= 13 and age < 20:\n",
    "    print(\"Person is a teenager\")\n",
    "elif age >= 20 and age < 65:\n",
    "    print(\"Person is an adult\")\n",
    "else:\n",
    "    print(\"Person is old\")\n",
    "\n",
    "\n",
    "       "
   ]
  },
  {
   "cell_type": "code",
   "execution_count": null,
   "id": "90c050e0-8293-4af1-a62d-a75a028f9f18",
   "metadata": {},
   "outputs": [],
   "source": []
  }
 ],
 "metadata": {
  "kernelspec": {
   "display_name": "Python [conda env:base] *",
   "language": "python",
   "name": "conda-base-py"
  },
  "language_info": {
   "codemirror_mode": {
    "name": "ipython",
    "version": 3
   },
   "file_extension": ".py",
   "mimetype": "text/x-python",
   "name": "python",
   "nbconvert_exporter": "python",
   "pygments_lexer": "ipython3",
   "version": "3.12.7"
  }
 },
 "nbformat": 4,
 "nbformat_minor": 5
}
