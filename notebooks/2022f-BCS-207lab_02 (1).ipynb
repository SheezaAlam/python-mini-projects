{
 "cells": [
  {
   "cell_type": "code",
   "execution_count": 23,
   "id": "ecb78673-cf8f-4adf-a9c8-80ea906a30e6",
   "metadata": {},
   "outputs": [
    {
     "name": "stdout",
     "output_type": "stream",
     "text": [
      "Sheeza\n",
      "Khan\n",
      "21\n",
      "karachi\n"
     ]
    }
   ],
   "source": [
    "#Activity- 1:Write a Python script that uses a dictionary to store information about a person you know. Store their first name, last name, age, and the city in which they live. You should have keys such as first_name, last_name, age, and city. Print each piece of information stored in your dictionary.\n",
    "\n",
    "person_info = {\n",
    "    \"first_name\":\"Sheeza\",\n",
    "    \"last_name\":\"Khan\",\n",
    "     \"age\":21 ,\n",
    "     \"city\":\"karachi\"\n",
    "}\n",
    "print(person_info[\"first_name\"])\n",
    "print(person_info[\"last_name\"])\n",
    "print(person_info[\"age\"])\n",
    "print(person_info[\"city\"])"
   ]
  },
  {
   "cell_type": "code",
   "execution_count": 41,
   "id": "f8b4f222-cfd7-4580-92e3-3271c3376e41",
   "metadata": {},
   "outputs": [
    {
     "name": "stdout",
     "output_type": "stream",
     "text": [
      "{1: 'a', 2: 'b', 3: 'c'}\n"
     ]
    }
   ],
   "source": [
    "#Activity- 2:Write a function that accepts a dictionary as an argument. If the dictionary contains replicate values, return an empty dictionary, otherwise, return a new dictionary whose values are now the keys and whose keys are the values.\n",
    "\n",
    "def dicfunc(input_dict):\n",
    "    # Check if values are unique\n",
    "    if len(set(input_dict.values())) != len(input_dict): #set-replicate values\n",
    "        return {}  # Return empty dictionary if duplicate values\n",
    "    else:\n",
    "        new_dict = {value: key for key, value in input_dict.items()}\n",
    "        return new_dict\n",
    "        \n",
    "d1 = {\"a\": 1, \"b\": 2, \"c\": 3}\n",
    "print(dicfunc(d1))\n"
   ]
  },
  {
   "cell_type": "code",
   "execution_count": 61,
   "id": "0a5444ec-6ebc-43f2-b5a2-d0df936cf4b0",
   "metadata": {},
   "outputs": [
    {
     "name": "stdout",
     "output_type": "stream",
     "text": [
      "biryani\n",
      "karhai\n",
      "steak\n",
      "burger\n",
      "chinese\n"
     ]
    }
   ],
   "source": [
    "#Activity- 3:\n",
    "#A buffet-style restaurant offers only five basic foods. Think of five simple foods, and store them in a tuple.\n",
    "#• Use a for loop to print each food the restaurant offers.\n",
    "#• Try to modify one of the items, and make sure that Python rejects the change\n",
    "food=(\"biryani\",\"karhai\",\"steak\",\"burger\",\"chinese\")\n",
    "for food_items in food :\n",
    " print(food_items)\n",
    "    \n",
    "#food_items[0] = \"pizza\" -type_error "
   ]
  },
  {
   "cell_type": "code",
   "execution_count": 81,
   "id": "cd0040c1-8f79-41f8-9038-9601744c1878",
   "metadata": {},
   "outputs": [
    {
     "name": "stdout",
     "output_type": "stream",
     "text": [
      "Maimoona, you're invited to dinner!\n",
      "Momina, you're invited to dinner!\n",
      "Maryam, you're invited to dinner!\n"
     ]
    }
   ],
   "source": [
    "#Activity- 4:\n",
    "#If you could invite anyone to dinner. Make a list that includes at least three people you’d like to invite to dinner. \n",
    "#Then use your list to print a message to each person, inviting them to dinner.\n",
    "invite_people=[\"maimoona\",\"momina\",\"maryam\"]\n",
    "for person in invite_people:\n",
    "    print(f\"{person.title()}, you're invited to dinner!\")"
   ]
  },
  {
   "cell_type": "code",
   "execution_count": 85,
   "id": "f3d85aca-f16c-4259-823c-c8e0f5477e3a",
   "metadata": {},
   "outputs": [
    {
     "name": "stdout",
     "output_type": "stream",
     "text": [
      "['maimoona', 'naima', 'maryam']\n",
      "Maimoona,you're invited\n",
      "Naima,you're invited\n",
      "Maryam,you're invited\n"
     ]
    }
   ],
   "source": [
    "#Activity- 5:\n",
    "#Changing Guest List: You just heard that one of your guests can’t make the dinner, so you need to send out a new set of invitations. You’ll have to think of someone else to invite. \n",
    "#• Modify your list, replacing the name of the guest who can’t make it with the name of the new person you are inviting. \n",
    "#• Print a second set of invitation messages, one for each person who is still in your list.\n",
    "invite_people=[\"maimoona\",\"momina\",\"maryam\"]\n",
    "invite_people[1]=\"naima\"\n",
    "print(invite_people)\n",
    "for invite in invite_people:\n",
    "    print(f\"{invite.title()},you're invited\")"
   ]
  },
  {
   "cell_type": "code",
   "execution_count": 91,
   "id": "726216a7-ad87-4cab-9244-368a375cd943",
   "metadata": {},
   "outputs": [
    {
     "name": "stdin",
     "output_type": "stream",
     "text": [
      "Enter number 1:  8\n",
      "Enter number 2:  10\n",
      "Enter number 3:  5\n",
      "Enter number 4:  6\n",
      "Enter number 5:  4\n",
      "Enter number 6:  64\n"
     ]
    },
    {
     "name": "stdout",
     "output_type": "stream",
     "text": [
      "{'EVEN': [8, 10, 6, 4, 64], 'ODD': [5]}\n"
     ]
    }
   ],
   "source": [
    "#Activity- 6:\n",
    "#Write a program to read 6 numbers and create a dictionary having keys EVEN and ODD. \n",
    "#Dictionary's value should be stored in list. Your dictionary should be like:{'EVEN':[8,10,64], 'ODD':[1,5,9]}\n",
    "\n",
    "even_list = []\n",
    "odd_list = []\n",
    "\n",
    "# Read 6 numbers from user input\n",
    "for i in range(6):\n",
    "    num = int(input(f\"Enter number {i+1}: \"))\n",
    "    if num % 2 == 0:\n",
    "        even_list.append(num)\n",
    "    else:\n",
    "        odd_list.append(num)\n",
    "\n",
    "# Create dictionary\n",
    "dic = {\n",
    "    'EVEN': even_list,\n",
    "    'ODD': odd_list\n",
    "}\n",
    "\n",
    "# Print the result\n",
    "print(dic)\n",
    "\n",
    "    \n"
   ]
  },
  {
   "cell_type": "code",
   "execution_count": 115,
   "id": "03c0c8ad-4644-42a7-bb4b-225fd59b391c",
   "metadata": {},
   "outputs": [
    {
     "name": "stdout",
     "output_type": "stream",
     "text": [
      "Luckyone\n",
      "Ethinic\n",
      "Edenrobe\n"
     ]
    }
   ],
   "source": [
    "#Activity- 7:\n",
    "#Write a definition of a method count_now(places) to find and display those place names, in which there are more than 5 characters\n",
    "# Correctly define the set of place names (as strings)\n",
    "places = {\n",
    "    \"luckyone\",\n",
    "    \"Edenrobe\",\n",
    "    \"ethinic\"\n",
    "}\n",
    "\n",
    "# Function definition\n",
    "def count_now(places):\n",
    "    for place in places:\n",
    "        if len(place) > 5:\n",
    "            print(place.title())\n",
    "\n",
    "# Call the function\n",
    "count_now(places)\n"
   ]
  },
  {
   "cell_type": "code",
   "execution_count": 117,
   "id": "c33574b1-c281-4f5a-96dd-c0b4b3ecfaf7",
   "metadata": {},
   "outputs": [
    {
     "name": "stdin",
     "output_type": "stream",
     "text": [
      "Enter a number:  3\n"
     ]
    },
    {
     "name": "stdout",
     "output_type": "stream",
     "text": [
      "Sum of odd numbers less than 3 = 1\n",
      "Sum of even numbers less than 3 = 2\n"
     ]
    }
   ],
   "source": [
    "#Activity- 8:\n",
    "#Write the following 2 functions:\n",
    "#def ComputeOddSum(num):\n",
    "#def ComputeEvenSum(num):\n",
    "#• The function ComputeOddSum find the sum of all odd numbers less than num. \n",
    "#• The function ComputeEvenSum find the sum of all even numbers less than num\n",
    "\n",
    "def ComputeOddSum(num):\n",
    "    odd_sum = 0\n",
    "    for i in range(1, num):\n",
    "        if i % 2 != 0:\n",
    "            odd_sum += i\n",
    "    return odd_sum\n",
    "\n",
    "def ComputeEvenSum(num):\n",
    "    even_sum = 0\n",
    "    for i in range(1, num):\n",
    "        if i % 2 == 0:\n",
    "            even_sum += i\n",
    "    return even_sum\n",
    "\n",
    "# Example:\n",
    "n = int(input(\"Enter a number: \"))\n",
    "print(\"Sum of odd numbers less than\", n, \"=\", ComputeOddSum(n))\n",
    "print(\"Sum of even numbers less than\", n, \"=\", ComputeEvenSum(n))\n"
   ]
  },
  {
   "cell_type": "code",
   "execution_count": 119,
   "id": "6a059286-98fc-4fc5-aee0-18ec46ac0161",
   "metadata": {},
   "outputs": [
    {
     "name": "stdin",
     "output_type": "stream",
     "text": [
      "Enter a number to find recursive sum up to N:  5\n"
     ]
    },
    {
     "name": "stdout",
     "output_type": "stream",
     "text": [
      "Recursive sum from 1 to 5 = 15\n"
     ]
    }
   ],
   "source": [
    "#Activity- 9:\n",
    "#Write a recursive function to get sum of all number from 1 up to give number. Example N = 5 \n",
    "#Result must be sum (1+2+3+4+5) =15\n",
    "\n",
    "def recursive_sum(n):\n",
    "    if n == 1:\n",
    "        return 1\n",
    "    else:\n",
    "        return n + recursive_sum(n - 1)\n",
    "        \n",
    "N = int(input(\"Enter a number to find recursive sum up to N: \"))\n",
    "print(\"Recursive sum from 1 to\", N, \"=\", recursive_sum(N))\n"
   ]
  },
  {
   "cell_type": "code",
   "execution_count": null,
   "id": "d0195cd4-c2b5-4ed5-bcd9-cd4ddc1058fe",
   "metadata": {},
   "outputs": [],
   "source": []
  }
 ],
 "metadata": {
  "kernelspec": {
   "display_name": "Python [conda env:base] *",
   "language": "python",
   "name": "conda-base-py"
  },
  "language_info": {
   "codemirror_mode": {
    "name": "ipython",
    "version": 3
   },
   "file_extension": ".py",
   "mimetype": "text/x-python",
   "name": "python",
   "nbconvert_exporter": "python",
   "pygments_lexer": "ipython3",
   "version": "3.12.7"
  }
 },
 "nbformat": 4,
 "nbformat_minor": 5
}
